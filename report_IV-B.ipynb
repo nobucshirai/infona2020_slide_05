{
  "nbformat": 4,
  "nbformat_minor": 0,
  "metadata": {
    "colab": {
      "provenance": []
    },
    "kernelspec": {
      "name": "python3",
      "display_name": "Python 3"
    }
  },
  "cells": [
    {
      "cell_type": "markdown",
      "metadata": {
        "id": "jaeqy3WhYbK3"
      },
      "source": [
        "# 数値解析2020 レポート\n",
        "\n",
        "**IV-B.** ニュートン法により $f(x)=2-e^{x}$ の根を求めるプログラムを初期値を $x=1$ として作成し、根の真値を有効数字10進16桁まで示した $\\alpha=0.6931471805599453$ と比べて絶対誤差が $10^{-8}$ 以下となる最低の反復回数 $n$ を求めよ。\n",
        "また $n$ 回反復した時の根の近似値と絶対誤差も求めよ。近似値は有効数字10進11桁以降を切り捨てて求め、絶対誤差は有効数字10進4桁以降を切り捨ててよ。\n",
        "作成したプログラムも提出すること。プログラミング言語は問わない。"
      ]
    },
    {
      "cell_type": "markdown",
      "metadata": {
        "id": "6oMty-RaogOy"
      },
      "source": [
        "以下Python3を用いたプログラム例を示す。"
      ]
    },
    {
      "cell_type": "code",
      "metadata": {
        "id": "mMdicca6YOfm",
        "outputId": "fc907371-0e6e-4f2a-8e36-9fe4c5fa5064",
        "colab": {
          "base_uri": "https://localhost:8080/"
        }
      },
      "source": [
        "# Pythonのバージョン確認\n",
        "import sys\n",
        "print(sys.version)"
      ],
      "execution_count": 1,
      "outputs": [
        {
          "output_type": "stream",
          "name": "stdout",
          "text": [
            "3.9.16 (main, Dec  7 2022, 01:11:51) \n",
            "[GCC 9.4.0]\n"
          ]
        }
      ]
    },
    {
      "cell_type": "code",
      "metadata": {
        "id": "8Z5uhXiGnrc6"
      },
      "source": [
        "import math\n",
        "def f_and_dfdx(x):\n",
        "    exp = math.exp(x)\n",
        "    return 2 - exp, -exp"
      ],
      "execution_count": null,
      "outputs": []
    },
    {
      "cell_type": "code",
      "metadata": {
        "id": "8UbkV8lSpLox",
        "outputId": "6e1d6b2a-dcd8-4c30-a544-d9cfe8057a71",
        "colab": {
          "base_uri": "https://localhost:8080/",
          "height": 85
        }
      },
      "source": [
        "x = 1\n",
        "alpha = 0.6931471805599453\n",
        "for i in range(100):\n",
        "    f_0, f_1 = f_and_dfdx(x)\n",
        "    if abs(alpha - x) <= 10**-8:\n",
        "        break\n",
        "    else:\n",
        "        x = x - f_0 / f_1\n",
        "\n",
        "print(\"反復回数 {:d}\".format(i))\n",
        "print(\"根の近似値 {:.15f}\".format(x))\n",
        "print(\"誤差 {:e}\".format(abs(alpha - x)))\n",
        "f_0, _ = f_and_dfdx(x)\n",
        "print(\"残差 {:e}\".format(abs(f_0)))"
      ],
      "execution_count": null,
      "outputs": [
        {
          "output_type": "stream",
          "text": [
            "反復回数 4\n",
            "根の近似値 0.693147180560025\n",
            "誤差 8.015810e-14\n",
            "残差 1.603162e-13\n"
          ],
          "name": "stdout"
        }
      ]
    },
    {
      "cell_type": "code",
      "metadata": {
        "id": "unQfFhTRyBF-",
        "outputId": "89757f97-56a4-48a4-a073-1bffc2ce2815",
        "colab": {
          "base_uri": "https://localhost:8080/",
          "height": 187
        }
      },
      "source": [
        "x = 1\n",
        "alpha = 0.6931471805599453\n",
        "i = 0\n",
        "f_0, _ = f_and_dfdx(x)\n",
        "print(\"(i={:d}) {:.15f} 誤差 {:18.15f} 残差 {:18.15f}\".format(i, x, abs(alpha - x), abs(f_0)))\n",
        "for i in range(100):\n",
        "    f_0, f_1 = f_and_dfdx(x)\n",
        "    if abs(alpha - x) <= 10**-8:\n",
        "        break\n",
        "    else:\n",
        "        x = x - f_0 / f_1\n",
        "    i += 1\n",
        "    f_0, _ = f_and_dfdx(x)\n",
        "    print(\"(i={:d}) {:.15f} 誤差 {:18.15f} 残差 {:18.15f}\".format(i, x, abs(alpha - x), abs(f_0)))\n",
        "\n",
        "print()\n",
        "print(\"反復回数 n={:d}\".format(i))\n",
        "print(\"根の近似値 {:.15f}\".format(x))\n",
        "print(\"誤差 {:e}\".format(abs(alpha - x)))\n",
        "f_0, _ = f_and_dfdx(x)\n",
        "print(\"残差 {:e}\".format(abs(f_0)))"
      ],
      "execution_count": null,
      "outputs": [
        {
          "output_type": "stream",
          "text": [
            "(i=0) 1.000000000000000 誤差  0.306852819440055 残差  0.718281828459045\n",
            "(i=1) 0.735758882342885 誤差  0.042611701782939 残差  0.087065228634533\n",
            "(i=2) 0.694042299918915 誤差  0.000895119358970 残差  0.001791040195728\n",
            "(i=3) 0.693147581059771 誤差  0.000000400499826 残差  0.000000800999813\n",
            "(i=4) 0.693147180560025 誤差  0.000000000000080 残差  0.000000000000160\n",
            "\n",
            "反復回数 n=4\n",
            "根の近似値 0.693147180560025\n",
            "誤差 8.015810e-14\n",
            "残差 1.603162e-13\n"
          ],
          "name": "stdout"
        }
      ]
    },
    {
      "cell_type": "code",
      "metadata": {
        "id": "fy3g_9JG3WTm",
        "outputId": "20a171ad-84cd-4d5d-ec7c-b543252f261b",
        "colab": {
          "base_uri": "https://localhost:8080/",
          "height": 102
        }
      },
      "source": [
        "x = 1\n",
        "alpha = 0.6931471805599453\n",
        "i = 0\n",
        "f_0, _ = f_and_dfdx(x)\n",
        "print(\"{:2d},{:.15f},{:.15f},{:.15f}\".format(i, x, abs(alpha-x) ,abs(f_0)))\n",
        "for i in range(100):\n",
        "    f_0, f_1 = f_and_dfdx(x)\n",
        "    if abs(alpha - x) <= 10**-8:\n",
        "        break\n",
        "    else:\n",
        "        x = x - f_0 / f_1\n",
        "    i += 1\n",
        "    f_0, _ = f_and_dfdx(x)\n",
        "    print(\"{:2d},{:.15f},{:.15f},{:.15f}\".format(i, x, abs(alpha-x) ,abs(f_0)))"
      ],
      "execution_count": null,
      "outputs": [
        {
          "output_type": "stream",
          "text": [
            " 0,1.000000000000000,0.306852819440055,0.718281828459045\n",
            " 1,0.735758882342885,0.042611701782939,0.087065228634533\n",
            " 2,0.694042299918915,0.000895119358970,0.001791040195728\n",
            " 3,0.693147581059771,0.000000400499826,0.000000800999813\n",
            " 4,0.693147180560025,0.000000000000080,0.000000000000160\n"
          ],
          "name": "stdout"
        }
      ]
    }
  ]
}